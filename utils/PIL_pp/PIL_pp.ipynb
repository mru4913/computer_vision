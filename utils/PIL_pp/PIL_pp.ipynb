{
 "cells": [
  {
   "cell_type": "code",
   "execution_count": 1,
   "metadata": {},
   "outputs": [],
   "source": [
    "import numpy as np \n",
    "from PIL import Image\n",
    "from PIL import ImageFilter\n",
    "from PIL import ImageEnhance"
   ]
  },
  {
   "cell_type": "markdown",
   "metadata": {},
   "source": [
    "# Preprocess images using PIL\n",
    "\n",
    "- Open \n",
    "- Filter\n",
    "- Contrast Change\n",
    "- Grey scale\n",
    "- Tricks to denoise \n",
    "- Binarize \n",
    "- Crop\n",
    "\n",
    "We can use `PIL` package to preprocess images in order to do some other stuff(?). For example, we have the following image and we want to extract clear character from the images."
   ]
  },
  {
   "cell_type": "code",
   "execution_count": 2,
   "metadata": {},
   "outputs": [
    {
     "data": {
      "image/png": "[encoded data removed]",
      "text/plain": [
       "<PIL.PngImagePlugin.PngImageFile image mode=RGBA size=694x305 at 0x11CEEA828>"
      ]
     },
     "execution_count": 2,
     "metadata": {},
     "output_type": "execute_result"
    }
   ],
   "source": [
    "# Open images \n",
    "img = Image.open('./code.png')\n",
    "img"
   ]
  },
  {
   "cell_type": "code",
   "execution_count": 3,
   "metadata": {},
   "outputs": [
    {
     "data": {
      "image/png": "[encoded data removed]",
      "text/plain": [
       "<PIL.Image.Image image mode=RGBA size=694x305 at 0x11CFA0278>"
      ]
     },
     "execution_count": 3,
     "metadata": {},
     "output_type": "execute_result"
    }
   ],
   "source": [
    "# Filter\n",
    "# There are many filters, like averaging and maximgum filter. \n",
    "# Each one is used for different purpose.\n",
    "# Here, we use a median fileter to keep the edge and the details of the imgage\n",
    "img = img.filter(ImageFilter.MedianFilter(5)) \n",
    "img"
   ]
  },
  {
   "cell_type": "code",
   "execution_count": 4,
   "metadata": {},
   "outputs": [
    {
     "data": {
      "image/png": "[encoded data removed]",
      "text/plain": [
       "<PIL.Image.Image image mode=RGBA size=694x305 at 0x11CFA0400>"
      ]
     },
     "execution_count": 4,
     "metadata": {},
     "output_type": "execute_result"
    }
   ],
   "source": [
    "# Contrast Change\n",
    "# Change paramters 'factor' to change the contrast\n",
    "# We can increase the contrast to highlight characters in compare to other noise \n",
    "img = ImageEnhance.Contrast(img).enhance(1.3)#enhance()\n",
    "img"
   ]
  },
  {
   "cell_type": "code",
   "execution_count": 5,
   "metadata": {},
   "outputs": [
    {
     "data": {
      "image/png": "[encoded data removed]",
      "text/plain": [
       "<PIL.Image.Image image mode=L size=694x305 at 0x11CFA0630>"
      ]
     },
     "execution_count": 5,
     "metadata": {},
     "output_type": "execute_result"
    }
   ],
   "source": [
    "# Scale change\n",
    "# We do not care about the color \n",
    "# change it to grey scale \n",
    "img = img.convert('L')\n",
    "img"
   ]
  },
  {
   "cell_type": "code",
   "execution_count": 6,
   "metadata": {},
   "outputs": [],
   "source": [
    "# However as you can seewe still have some unnecessary \n",
    "# lines in the background \n",
    "# we need to find a way to remove those lines \n",
    "# this approach has to be carefully used b\n",
    "def remove_pixel(img, vrange=(150,220)):\n",
    "    pixdata = img.load()\n",
    "    w, h = img.size\n",
    "    for j in range(h):\n",
    "        for i in range(w):\n",
    "            if pixdata[i,j] > vrange[0] and  pixdata[i,j] < vrange[1]:\n",
    "                pixdata[i,j] = 255\n",
    "\n",
    "    return img"
   ]
  },
  {
   "cell_type": "code",
   "execution_count": 7,
   "metadata": {},
   "outputs": [
    {
     "data": {
      "image/png": "[encoded data removed]",
      "text/plain": [
       "<PIL.Image.Image image mode=L size=694x305 at 0x11CFA0630>"
      ]
     },
     "execution_count": 7,
     "metadata": {},
     "output_type": "execute_result"
    }
   ],
   "source": [
    "img = remove_pixel(img)\n",
    "img"
   ]
  },
  {
   "cell_type": "markdown",
   "metadata": {},
   "source": [
    "This is another way to denoise. For each pixel, we look its surrounding pixels. If it has more than 2 surrounding pixels belong to background, we label as noise. However, it does not work well in this case. \n",
    "\n",
    "```Python\n",
    "def denoise(im):\n",
    "    pixdata = im.load()\n",
    "    w, h = im.size\n",
    "    for j in range(1,h-1):\n",
    "        for i in range(1,w-1):\n",
    "            count=0\n",
    "            if pixdata[i,j-1] > 245:\n",
    "                count = count+1\n",
    "            if pixdata[i,j+1] > 245:\n",
    "                count = count+1\n",
    "            if pixdata[i+1,j] > 245:\n",
    "                count = count+1\n",
    "            if pixdata[i-1,j] > 245:\n",
    "                count = count+1\n",
    "            if count > 2:\n",
    "                pixdata[i,j] = 255\n",
    "    return im\n",
    "```"
   ]
  },
  {
   "cell_type": "code",
   "execution_count": 8,
   "metadata": {},
   "outputs": [],
   "source": [
    "# Binarize\n",
    "# Now, we can make the characters clearer to see by binarizing.\n",
    "def binarizing(img, threshold):\n",
    "    pixdata = img.load()\n",
    "    w, h = img.size\n",
    "    for j in range(h):\n",
    "        for i in range(w):\n",
    "            if pixdata[i,j] < threshold:\n",
    "                pixdata[i,j] = 0\n",
    "            else:\n",
    "                pixdata[i,j] = 255\n",
    "    return img"
   ]
  },
  {
   "cell_type": "code",
   "execution_count": 9,
   "metadata": {},
   "outputs": [
    {
     "data": {
      "image/png": "[encoded data removed]",
      "text/plain": [
       "<PIL.Image.Image image mode=L size=694x305 at 0x11CFA0630>"
      ]
     },
     "execution_count": 9,
     "metadata": {},
     "output_type": "execute_result"
    }
   ],
   "source": [
    "img = binarizing(img, 200)\n",
    "img"
   ]
  },
  {
   "cell_type": "code",
   "execution_count": 10,
   "metadata": {},
   "outputs": [],
   "source": [
    "# Crop\n",
    "# Then we may need to crop imgages\n",
    "n = 4\n",
    "w, h = img.size\n",
    "imgg_w = w/n\n",
    "for i in range(n):\n",
    "    img.crop((0 + imgg_w * i, 0, imgg_w * (i+1), h)).show()"
   ]
  },
  {
   "cell_type": "code",
   "execution_count": 11,
   "metadata": {},
   "outputs": [
    {
     "data": {
      "image/png": "[encoded data removed]",
      "text/plain": [
       "<PIL.Image.Image image mode=L size=30x30 at 0x11CFAB080>"
      ]
     },
     "execution_count": 11,
     "metadata": {},
     "output_type": "execute_result"
    }
   ],
   "source": [
    "# Numpy to PIL image \n",
    "Image.fromarray(np.random.randint(0,255,(30,30)).astype('uint8'))"
   ]
  },
  {
   "cell_type": "code",
   "execution_count": 12,
   "metadata": {},
   "outputs": [
    {
     "data": {
      "text/plain": [
       "array([[255, 255, 255, ..., 255, 255, 255],\n",
       "       [255, 255, 255, ..., 255, 255, 255],\n",
       "       [255, 255, 255, ..., 255, 255, 255],\n",
       "       ...,\n",
       "       [255, 255, 255, ..., 255, 255, 255],\n",
       "       [255, 255, 255, ..., 255, 255, 255],\n",
       "       [255, 255, 255, ..., 255, 255, 255]], dtype=uint8)"
      ]
     },
     "execution_count": 12,
     "metadata": {},
     "output_type": "execute_result"
    }
   ],
   "source": [
    "# PIl image to array\n",
    "np.array(img)"
   ]
  }
 ],
 "metadata": {
  "kernelspec": {
   "display_name": "Python 3",
   "language": "python",
   "name": "python3"
  },
  "language_info": {
   "codemirror_mode": {
    "name": "ipython",
    "version": 3
   },
   "file_extension": ".py",
   "mimetype": "text/x-python",
   "name": "python",
   "nbconvert_exporter": "python",
   "pygments_lexer": "ipython3",
   "version": "3.6.8"
  }
 },
 "nbformat": 4,
 "nbformat_minor": 2
}
